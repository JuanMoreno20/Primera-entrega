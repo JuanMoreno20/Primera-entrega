{
 "cells": [
  {
   "cell_type": "code",
   "execution_count": null,
   "metadata": {},
   "outputs": [],
   "source": [
    "#Bases de datos \n",
    "pip install sodapy\n",
    "pip install matplotlib\n",
    "pip install pandas"
   ]
  },
  {
   "cell_type": "code",
   "execution_count": null,
   "metadata": {},
   "outputs": [],
   "source": [
    "#Librerias\n",
    "import pandas as pd\n",
    "import matplotlib.pyplot as plt\n",
    "from sodapy import Socrata"
   ]
  },
  {
   "cell_type": "code",
   "execution_count": null,
   "metadata": {},
   "outputs": [],
   "source": [
    "\n",
    "\n",
    "\n",
    "client = Socrata(\"www.datos.gov.co\",\n",
    "                 \"Aorz3WwCwZXp3wMkpD09SiMLR\",## Cambie token_aqui por el token recien creado\n",
    "                 username=\"daniela02.palencia@gmail.com\", ## Correo electrónico de ingreso a la plataforma de datos abiertos\n",
    "                 password=\"Sony1836\")## Contraseña de ingreso a la plataforma de datos abiertos\n",
    "\n",
    "\n",
    "\n",
    "socrata_dataset_identifier = \"jbjy-vk9h\"\n",
    "\n",
    "Query = \"\"\"\n",
    "select\n",
    "    *\n",
    "where\n",
    "    fecha_de_firma >= '2020-01-01'\n",
    "    and\n",
    "    nit_entidad=830115395\n",
    "limit\n",
    "14000000\n",
    "\"\"\"\n",
    "\n",
    "contratos_2020 = client.get(socrata_dataset_identifier, content_type=\"json\", query=Query)\n",
    "\n",
    "secopII_2020_DF = pd.DataFrame(pd.DataFrame.from_dict(contratos_2020))\n",
    "secopII_2020_DF\n"
   ]
  },
  {
   "cell_type": "code",
   "execution_count": null,
   "metadata": {},
   "outputs": [],
   "source": [
    "secopII_2020_DF.to_csv('../../Datos/Raw/contratos2020.csv')\n",
    "contratos_min_ambiente=pd.read_csv('../../Datos/Raw/contratos2020.csv')"
   ]
  },
  {
   "cell_type": "code",
   "execution_count": null,
   "metadata": {},
   "outputs": [],
   "source": [
    "\n",
    "pd.set_option('display.max.columns',999)\n",
    "contratos_min_ambiente.describe(include=\"all\")"
   ]
  },
  {
   "cell_type": "code",
   "execution_count": null,
   "metadata": {},
   "outputs": [],
   "source": [
    "# Configura las opciones de visualización para mostrar todas las columnas\n",
    "pd.set_option('display.max.columns', None)\n",
    "\n",
    "# Calcula la cantidad de NaN por columna\n",
    "nan_count = secopII_2020_DF.isna().sum()\n",
    "\n",
    "# Imprime el resultado\n",
    "print(\"Número de NaN por columna:\")\n",
    "print(nan_count)"
   ]
  },
  {
   "cell_type": "code",
   "execution_count": null,
   "metadata": {},
   "outputs": [],
   "source": [
    "#Estado del contrato\n",
    "Estado_contrato = contratos_min_ambiente['estado_contrato'].value_counts()\n",
    "\n",
    "# Calcula las frecuencias de los estados de contrato\n",
    "estado_contrato_frecuencias = contratos_min_ambiente['estado_contrato'].value_counts()\n",
    "\n",
    "# Calcula los porcentajes de los estados de contrato\n",
    "estado_contrato_porcentajes = contratos_min_ambiente['estado_contrato'].value_counts(normalize=True) * 100\n",
    "\n",
    "# Combina las frecuencias y los porcentajes en un DataFrame\n",
    "estado_contrato_df = pd.DataFrame({'Frecuencia': estado_contrato_frecuencias, 'Porcentaje': estado_contrato_porcentajes})\n",
    "\n",
    "# Muestra el DataFrame resultante\n",
    "print(estado_contrato_df)"
   ]
  },
  {
   "cell_type": "code",
   "execution_count": null,
   "metadata": {},
   "outputs": [],
   "source": [
    "# Calcula las frecuencias de los tipos de contrato\n",
    "tipos_contrato_frecuencias = contratos_min_ambiente['tipo_de_contrato'].value_counts()\n",
    "\n",
    "# Muestra la cantidad de tipos de contrato\n",
    "print(f\"Número de tipos de contrato: {len(tipos_contrato_frecuencias)}\")\n",
    "\n",
    "# Muestra los tipos de contrato y sus frecuencias\n",
    "print(\"\\nFrecuencia de cada tipo de contrato:\")\n",
    "print(tipos_contrato_frecuencias)"
   ]
  },
  {
   "cell_type": "code",
   "execution_count": null,
   "metadata": {},
   "outputs": [],
   "source": [
    "# Calcula las frecuencias de las modalidades de contratación\n",
    "modalidades_contratacion_frecuencias = contratos_min_ambiente['modalidad_de_contratacion'].value_counts()\n",
    "\n",
    "# Muestra la cantidad de modalidades de contratación\n",
    "print(f\"Número de modalidades de contratación: {len(modalidades_contratacion_frecuencias)}\")\n",
    "\n",
    "# Muestra las modalidades de contratación y sus frecuencias\n",
    "print(\"\\nFrecuencia de cada modalidad de contratación:\")\n",
    "print(modalidades_contratacion_frecuencias)"
   ]
  },
  {
   "cell_type": "code",
   "execution_count": null,
   "metadata": {},
   "outputs": [],
   "source": [
    "# Calcula las frecuencias de las justificaciones de modalidad de contratación\n",
    "justificaciones_modalidad_frecuencias = contratos_min_ambiente['justificacion_modalidad_de'].value_counts()\n",
    "\n",
    "# Muestra la cantidad de justificaciones de modalidad de contratación\n",
    "print(f\"Número de justificaciones de modalidad de contratación: {len(justificaciones_modalidad_frecuencias)}\")\n",
    "\n",
    "# Muestra las justificaciones de modalidad de contratación y sus frecuencias\n",
    "print(\"\\nFrecuencia de cada justificación de modalidad de contratación:\")\n",
    "print(justificaciones_modalidad_frecuencias)"
   ]
  },
  {
   "cell_type": "code",
   "execution_count": null,
   "metadata": {},
   "outputs": [],
   "source": [
    "# Convierte la columna de fecha de firma al formato de fecha de Python\n",
    "contratos_min_ambiente['fecha_de_firma'] = pd.to_datetime(contratos_min_ambiente['fecha_de_firma'], format='%Y-%m-%dT%H:%M:%S.%f')\n",
    "\n",
    "# Encuentra la fecha de firma más antigua y la más reciente\n",
    "fecha_antigua = contratos_min_ambiente['fecha_de_firma'].min()\n",
    "fecha_reciente = contratos_min_ambiente['fecha_de_firma'].max()\n",
    "\n",
    "# Muestra los resultados\n",
    "print(f\"Fecha de firma más antigua: {fecha_antigua}\")\n",
    "print(f\"Fecha de firma más reciente: {fecha_reciente}\")\n"
   ]
  },
  {
   "cell_type": "code",
   "execution_count": null,
   "metadata": {},
   "outputs": [],
   "source": [
    "contratos_min_ambiente['fecha_de_firma'] = pd.to_datetime(contratos_min_ambiente['fecha_de_firma'], format='%Y-%m-%dT%H:%M:%S.%f')\n",
    "\n",
    "# Extrae el año de la fecha de firma y crea una nueva columna 'año'\n",
    "contratos_min_ambiente['año'] = contratos_min_ambiente['fecha_de_firma'].dt.year\n",
    "\n",
    "# Cuenta la cantidad de contratos por año\n",
    "contratos_por_año = contratos_min_ambiente['año'].value_counts().sort_index()\n",
    "\n",
    "# Grafica los resultados\n",
    "plt.figure(figsize=(10, 6))\n",
    "contratos_por_año.plot(kind='bar', color='skyblue')\n",
    "plt.title('Número de Contratos por Año')\n",
    "plt.xlabel('Año')\n",
    "plt.ylabel('Número de Contratos')\n",
    "plt.show()"
   ]
  },
  {
   "cell_type": "code",
   "execution_count": null,
   "metadata": {},
   "outputs": [],
   "source": [
    "# Convierte la columna 'valor_del_contrato' a numérica (si aún no lo está)\n",
    "contratos_min_ambiente['valor_del_contrato'] = pd.to_numeric(contratos_min_ambiente['valor_del_contrato'], errors='coerce')\n",
    "\n",
    "# Filtra los datos para incluir solo el año 2023\n",
    "contratos_2023 = contratos_min_ambiente[contratos_min_ambiente['fecha_de_firma'].dt.year == 2023]\n",
    "\n",
    "# Ordena el DataFrame por la fecha de firma para tener una secuencia temporal\n",
    "contratos_2023 = contratos_2023.sort_values(by='fecha_de_firma')\n",
    "\n",
    "# Grafica el valor del contrato a lo largo del tiempo para el año 2023\n",
    "plt.figure(figsize=(12, 6))\n",
    "plt.plot(contratos_2023['fecha_de_firma'], contratos_2023['valor_del_contrato'], marker='o', linestyle='-')\n",
    "plt.title('Valor del Contrato en 2023')\n",
    "plt.xlabel('Fecha de Firma')\n",
    "plt.ylabel('Valor del Contrato')\n",
    "plt.xticks(rotation=45)\n",
    "plt.grid(True)\n",
    "plt.show()"
   ]
  },
  {
   "cell_type": "code",
   "execution_count": null,
   "metadata": {},
   "outputs": [],
   "source": [
    "plt.figure(figsize=(12, 6))\n",
    "plt.scatter(contratos_2023['fecha_de_firma'], contratos_2023['valor_del_contrato'], color='orange')\n",
    "plt.title('Valor del Contrato en 2023')\n",
    "plt.xlabel('Fecha de Firma')\n",
    "plt.ylabel('Valor del Contrato')\n",
    "plt.xticks(rotation=45)\n",
    "plt.show()"
   ]
  }
 ],
 "metadata": {
  "language_info": {
   "name": "python"
  }
 },
 "nbformat": 4,
 "nbformat_minor": 2
}
