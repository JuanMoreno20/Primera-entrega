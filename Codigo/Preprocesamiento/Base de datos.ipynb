{
 "cells": [
  {
   "cell_type": "code",
   "execution_count": null,
   "metadata": {},
   "outputs": [],
   "source": [
    "#Bases de datos \n",
    "pip install sodapy"
   ]
  },
  {
   "cell_type": "code",
   "execution_count": null,
   "metadata": {},
   "outputs": [],
   "source": [
    "identificador = \"jbjy-vk9h\""
   ]
  },
  {
   "cell_type": "code",
   "execution_count": null,
   "metadata": {},
   "outputs": [],
   "source": [
    "import pandas as pd     \n",
    "from sodapy import Socrata \n",
    "\n",
    "client = Socrata(\"www.datos.gov.co\", None)"
   ]
  },
  {
   "cell_type": "code",
   "execution_count": null,
   "metadata": {},
   "outputs": [],
   "source": [
    "socrata_dataset_identifier = \"jbjy-vk9h\"\n",
    "\n",
    "Query = \"\"\"\n",
    "select \n",
    "    id_contrato, nombre_entidad, departamento, descripcion_del_proceso, valor_del_contrato\n",
    "where\n",
    "    fecha_de_firma >= '2022-06-01'\n",
    "limit\n",
    "1000\n",
    "\"\"\"\n",
    "\n",
    "contratos_2022 = client.get(socrata_dataset_identifier, content_type=\"json\", query=Query)\n",
    "\n",
    "secopII_2022_DF = pd.DataFrame(pd.DataFrame.from_dict(contratos_2022))\n",
    "secopII_2022_DF"
   ]
  }
 ],
 "metadata": {
  "language_info": {
   "name": "python"
  }
 },
 "nbformat": 4,
 "nbformat_minor": 2
}
